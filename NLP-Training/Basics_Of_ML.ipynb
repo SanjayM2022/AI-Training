{
  "nbformat": 4,
  "nbformat_minor": 0,
  "metadata": {
    "colab": {
      "provenance": []
    },
    "kernelspec": {
      "name": "python3",
      "display_name": "Python 3"
    },
    "language_info": {
      "name": "python"
    }
  },
  "cells": [
    {
      "cell_type": "markdown",
      "source": [
        "**Natural Language Processing (NLP)**:\n",
        "\n",
        "NLP stands for Natural Language Processing. It is the branch of Artificial Intelligence that gives the ability to machine understand and process human languages. Human languages can be in the form of text or audio format.\n",
        "-NLP helps us to analyse data from both structured and unstructured sources.\n",
        "\n",
        "-NLP is very fast and time efficient.\n",
        "\n",
        "-NLP offers end-to-end exact answers to the question. So, It saves time that going to consume unnecessary and unwanted information.\n",
        "\n",
        "-NLP offers users to ask questions about any subject and give a direct response within milliseconds.\n",
        "\n"
      ],
      "metadata": {
        "id": "q9sR-emaT9WL"
      }
    },
    {
      "cell_type": "markdown",
      "source": [
        "**Components of NLP**\n",
        "There are two components of Natural Language Processing:\n",
        "\n",
        "*Natural Language Understanding.\n",
        "\n",
        "*Natural Language Generation."
      ],
      "metadata": {
        "id": "wb7A_bTUUlNK"
      }
    },
    {
      "cell_type": "markdown",
      "source": [
        "Applications of NLP:\n",
        "\n",
        "The applications of Natural Language Processing are as follows:\n",
        "\n",
        "1.Text and speech processing like-Voice assistants –\n",
        "Alexa, Siri, etc.\n",
        "\n",
        "2.Text classification like Grammarly, Microsoft Word, and Google Docs\n",
        "\n",
        "3.Information extraction like-Search engines like DuckDuckGo, Google\n",
        "\n",
        "4.Chatbot and Question Answering like:- website bots\n",
        "\n",
        "5.Language Translation like:- Google Translate\n",
        "\n",
        "6.Text summarization."
      ],
      "metadata": {
        "id": "_PSpP-PZU0zK"
      }
    },
    {
      "cell_type": "markdown",
      "source": [
        "**NLP Libraries**\n",
        "\n",
        "-NLTK\n",
        "\n",
        "-Spacy\n",
        "\n",
        "-Gensim\n",
        "\n",
        "-fastText\n",
        "\n",
        "-Stanford toolkit (Glove)\n",
        "\n",
        "-Apache OpenNLP"
      ],
      "metadata": {
        "id": "3i6x5AyLVrqa"
      }
    },
    {
      "cell_type": "markdown",
      "source": [
        "**Classical Approaches**\n",
        "\n",
        "Classical Approaches to Natural Language Processing.\n",
        "\n",
        "**1.Text Preprocessing:**\n",
        "\n",
        "**1.1.Regular Expressions:**\n",
        "\n",
        "A Regular Expression or RegEx is a special sequence of characters that uses a search pattern to find a string or set of strings.\n",
        "\n",
        "It can detect the presence or absence of a text by matching it with a particular pattern and also can split a pattern into one or more sub-patterns."
      ],
      "metadata": {
        "id": "nVw-HNGOW1dz"
      }
    },
    {
      "cell_type": "markdown",
      "source": [
        "**Regex Module in Python**\n",
        "\n",
        "Python has a built-in module named **“re”** that is used for regular expressions in Python. We can import this module by using the import statement.\n",
        "\n",
        "Example: Importing re module in Python"
      ],
      "metadata": {
        "id": "skJ_c6WIaN5y"
      }
    },
    {
      "cell_type": "code",
      "source": [
        "# importing re module\n",
        "import re\n"
      ],
      "metadata": {
        "id": "FIZiufALaS-6"
      },
      "execution_count": null,
      "outputs": []
    },
    {
      "cell_type": "markdown",
      "source": [
        "How to Use RegEx in Python?\n",
        "You can use RegEx in Python after importing re module.\n",
        "\n",
        "Example:\n",
        "This Python code uses regular expressions to search for the word “portal” in the given string and then prints the start and end indices of the matched word within the string."
      ],
      "metadata": {
        "id": "OMYnUw8BdBQ5"
      }
    },
    {
      "cell_type": "code",
      "source": [
        "import re\n",
        "\n",
        "s = 'Enterprise AI for Structuring the Unstructured Data'\n",
        "\n",
        "match = re.search(r'AI', s)\n",
        "\n",
        "print('Start Index:', match.start())\n",
        "print('End Index:', match.end())\n"
      ],
      "metadata": {
        "colab": {
          "base_uri": "https://localhost:8080/"
        },
        "id": "3-5NJMwldJfZ",
        "outputId": "826e40a9-289a-4b5b-9758-080863e25fd0"
      },
      "execution_count": null,
      "outputs": [
        {
          "output_type": "stream",
          "name": "stdout",
          "text": [
            "Start Index: 11\n",
            "End Index: 13\n"
          ]
        }
      ]
    },
    {
      "cell_type": "markdown",
      "source": [
        "Note: Here r character (r’AI’) stands for raw, not regex. The raw string is slightly different from a regular string, it won’t interpret the \\ character as an escape character. This is because the regular expression engine uses \\ character for its own escaping purpose.\n",
        "\n",
        "Before starting with the Python regex module let’s see how to actually write regex using metacharacters or special sequences."
      ],
      "metadata": {
        "id": "MTm1fHjvdzgB"
      }
    },
    {
      "cell_type": "markdown",
      "source": [
        "**Metacharacters**\n",
        "\n",
        "Metacharacters are the characters with special meaning.\n",
        "\n",
        "To understand the RE analogy, Metacharacters are useful and important. They will be used in functions of module re. Below is the list of metacharacters.\n",
        "\n",
        "MetaCharacters\n",
        "\n",
        "**\\**  --> Used to drop the special meaning of character following it.\n",
        "\n",
        "**[]** --> Represent a character class.\n",
        "\n",
        "**^**  --> Matches the beginning.\n",
        "\n",
        "**$**  --> Matches the end.\n",
        "\n",
        "**.**  --> Matches any character except newline.\n",
        "\n",
        "**|** -->  Means OR (Matches with any of the characters separated by it).\n",
        "\n",
        "**?** --> Matches zero or one occurrence.\n",
        "\n",
        "*-->  Any number of occurrences (including 0 occurrences)\n",
        "\n",
        "**+** -->  One or more occurrences\n",
        "\n",
        "**{}**  --> Indicate the number of occurrences of a preceding regex to match.\n",
        "\n",
        "**()** --> Enclose a group of Regex"
      ],
      "metadata": {
        "id": "uByehCJSeUZw"
      }
    },
    {
      "cell_type": "markdown",
      "source": [
        "1. **\\ – Backslash**\n",
        "\n",
        "The backslash (\\) makes sure that the character is not treated in a special way. This can be considered a way of escaping metacharacters.\n",
        "\n",
        "For example, if you want to search for the dot(.) in the string then you will find that dot(.) will be treated as a special character as is one of the metacharacters (as shown in the above table). So for this case, we will use the backslash(\\) just before the dot(.) so that it will lose its specialty. See the below example for a better understanding.\n",
        "\n",
        "Example:\n",
        "The first search (re.search(r'.', s)) matches any character, not just the period, while the second search (re.search(r'\\.', s)) specifically looks for and matches the period character."
      ],
      "metadata": {
        "id": "YBPjudftg5wH"
      }
    },
    {
      "cell_type": "code",
      "source": [
        "import re\n",
        "\n",
        "s = 'Solutioning.AI & Consulting.AI'\n",
        "\n",
        "# without using \\\n",
        "match = re.search(r'.', s)\n",
        "print(match)\n",
        "\n",
        "# using \\\n",
        "match = re.search(r'\\.', s)\n",
        "print(match)\n"
      ],
      "metadata": {
        "colab": {
          "base_uri": "https://localhost:8080/"
        },
        "id": "JFC5IE0Pg9-_",
        "outputId": "1393816a-7cb7-4089-a15e-31fd30daf634"
      },
      "execution_count": null,
      "outputs": [
        {
          "output_type": "stream",
          "name": "stdout",
          "text": [
            "<re.Match object; span=(0, 1), match='S'>\n",
            "<re.Match object; span=(11, 12), match='.'>\n"
          ]
        }
      ]
    },
    {
      "cell_type": "markdown",
      "source": [
        "**2. [] – Square Brackets**\n",
        "\n",
        "Square Brackets ([]) represent a character class consisting of a set of characters that we wish to match. For example, the character class [abc] will match any single a, b, or c.\n",
        "\n",
        "We can also specify a range of characters using – inside the square brackets. For example,\n",
        "\n",
        "[0, 3] is sample as [0123]\n",
        "[a-c] is same as [abc]\n",
        "We can also invert the character class using the caret(^) symbol. For example,\n",
        "\n",
        "[^0-3] means any number except 0, 1, 2, or 3\n",
        "[^a-c] means any character except a, b, or c\n",
        "Example:\n",
        "In this code, you’re using regular expressions to find all the characters in the string that fall within the range of ‘a’ to ‘m’. The re.findall() function returns a list of all such characters. In the given string, the characters that match this pattern are: ‘c’, ‘k’, ‘b’, ‘f’, ‘j’, ‘e’, ‘h’, ‘l’, ‘d’, ‘g’."
      ],
      "metadata": {
        "id": "kJsK1I6ah8Eh"
      }
    },
    {
      "cell_type": "code",
      "source": [
        "import re\n",
        "\n",
        "string = \"Unique with Domain Diversity & Multidisciplinary Experience\"\n",
        "pattern = \"[a-h]\"\n",
        "result = re.findall(pattern, string)\n",
        "\n",
        "print(result)\n"
      ],
      "metadata": {
        "colab": {
          "base_uri": "https://localhost:8080/"
        },
        "id": "JT1NRua8jHy_",
        "outputId": "75be906d-d604-475f-d4ba-8880724cacca"
      },
      "execution_count": null,
      "outputs": [
        {
          "output_type": "stream",
          "name": "stdout",
          "text": [
            "['e', 'h', 'a', 'e', 'd', 'c', 'a', 'e', 'e', 'c', 'e']\n"
          ]
        }
      ]
    },
    {
      "cell_type": "markdown",
      "source": [
        "3. **^ – Caret**\n",
        "\n",
        "Caret (^) symbol matches the beginning of the string i.e. checks whether the string starts with the given character(s) or not. For example –  \n",
        "\n",
        "^g will check if the string starts with g such as geeks, globe, girl, g, etc.\n",
        "^ge will check if the string starts with ge such as geeks, geeksforgeeks, etc.\n",
        "Example:\n",
        "This code uses regular expressions to check if a list of strings starts with “The”. If a string begins with “The,” it’s marked as “Matched” otherwise, it’s labeled as “Not matched”."
      ],
      "metadata": {
        "id": "H1FKKz1PlICX"
      }
    },
    {
      "cell_type": "code",
      "source": [
        "import re\n",
        "regex = r'^RBG'\n",
        "strings = ['RBG Resourcing.AI', 'Structuring the Unstructured Data', 'RBG AI Services']\n",
        "for string in strings:\n",
        "\tif re.match(regex, string):\n",
        "\t\tprint(f'Matched: {string}')\n",
        "\telse:\n",
        "\t\tprint(f'Not matched: {string}')\n"
      ],
      "metadata": {
        "colab": {
          "base_uri": "https://localhost:8080/"
        },
        "id": "4NY-j6-KlT_H",
        "outputId": "44641db1-b9cd-4b87-bccb-dba03cd375dc"
      },
      "execution_count": null,
      "outputs": [
        {
          "output_type": "stream",
          "name": "stdout",
          "text": [
            "Matched: RBG Resourcing.AI\n",
            "Not matched: Structuring the Unstructured Data\n",
            "Matched: RBG AI Services\n"
          ]
        }
      ]
    },
    {
      "cell_type": "markdown",
      "source": [
        "4. **$ – Dollar**\n",
        "\n",
        "Dollar symbol matches the end of the string i.e checks whether the string ends with the given character(s) or not.\n",
        "Example:\n",
        "This code uses a regular expression to check if the string ends with “World!”. If a match is found, it prints “Match found!” otherwise, it prints “Match not found\".\n",
        "\n"
      ],
      "metadata": {
        "id": "B3McoL2xxDZ-"
      }
    },
    {
      "cell_type": "code",
      "source": [
        "import re\n",
        "\n",
        "string = \"Hello World!\"\n",
        "pattern = r\"World!$\"\n",
        "\n",
        "match = re.search(pattern, string)\n",
        "if match:\n",
        "\tprint(\"Match found!\")\n",
        "else:\n",
        "\tprint(\"Match not found.\")\n"
      ],
      "metadata": {
        "colab": {
          "base_uri": "https://localhost:8080/"
        },
        "id": "VNnVhgTm0bqW",
        "outputId": "6caa9a25-ac83-4712-e546-fa123947241a"
      },
      "execution_count": null,
      "outputs": [
        {
          "output_type": "stream",
          "name": "stdout",
          "text": [
            "Match found!\n"
          ]
        }
      ]
    },
    {
      "cell_type": "markdown",
      "source": [
        "**5. . – Dot**\n",
        "\n",
        "Dot(.) symbol matches only a single character except for the newline character (\\n). For example –  \n",
        "\n",
        "a.b will check for the string that contains any character at the place of the dot such as acb, acbd, abbb, etc\n",
        ".. will check if the string contains at least 2 characters."
      ],
      "metadata": {
        "id": "HybfFELu0mGG"
      }
    },
    {
      "cell_type": "code",
      "source": [
        "import re\n",
        "\n",
        "string = \"RBG AI is the Solutioning & Consulting Company\"\n",
        "pattern = r\"RBG.AI\"\n",
        "\n",
        "match = re.search(pattern, string)\n",
        "if match:\n",
        "\tprint(\"Match found!\")\n",
        "else:\n",
        "\tprint(\"Match not found.\")\n"
      ],
      "metadata": {
        "colab": {
          "base_uri": "https://localhost:8080/"
        },
        "id": "SvD2XJj502nW",
        "outputId": "055026e4-4226-43af-f664-dd3ca1e1b75b"
      },
      "execution_count": null,
      "outputs": [
        {
          "output_type": "stream",
          "name": "stdout",
          "text": [
            "Match found!\n"
          ]
        }
      ]
    },
    {
      "cell_type": "markdown",
      "source": [
        "This code uses a regular expression to search for the pattern “RBG.AI” within the string. The dot (.) in the pattern represents any character. If a match is found, it prints “Match found!” otherwise, it prints “Match not found”."
      ],
      "metadata": {
        "id": "QVYE_f5X1aEG"
      }
    },
    {
      "cell_type": "markdown",
      "source": [
        "6. | – Or\n",
        "\n",
        "Or symbol works as the or operator meaning it checks whether the pattern before or after the or symbol is present in the string or not. For example –  \n",
        "\n",
        "a|b will match any string that contains a or b such as acd, bcd, abcd, etc.\n",
        "7. ? – Question Mark\n",
        "\n",
        "The question mark (?) is a quantifier in regular expressions that indicates that the preceding element should be matched zero or one time. It allows you to specify that the element is optional, meaning it may occur once or not at all. For example,\n",
        "\n",
        "ab?c will be matched for the string ac, acb, dabc but will not be matched for abbc because there are two b. Similarly, it will not be matched for abdc because b is not followed by c.\n",
        "\n",
        " 8.* – Star\n",
        "\n",
        "Star (*) symbol matches zero or more occurrences of the regex preceding the * symbol. For example –  \n",
        "\n",
        "ab*c will be matched for the string ac, abc, abbbc, dabc, etc. but will not be matched for abdc because b is not followed by c.\n",
        "9. + – Plus\n",
        "\n",
        "Plus (+) symbol matches one or more occurrences of the regex preceding the + symbol. For example –  \n",
        "\n",
        "ab+c will be matched for the string abc, abbc, dabc, but will not be matched for ac, abdc, because there is no b in ac and b, is not followed by c in abdc.\n",
        "10. {m, n} – Braces\n",
        "\n",
        "Braces match any repetitions preceding regex from m to n both inclusive. For example –  \n",
        "\n",
        "a{2, 4} will be matched for the string aaab, baaaac, gaad, but will not be matched for strings like abc, bc because there is only one a or no a in both the cases.\n",
        "11. (<regex>) – Group\n",
        "\n",
        "Group symbol is used to group sub-patterns. For example –  \n",
        "\n",
        "(a|b)cd will match for strings like acd, abcd, gacd, etc."
      ],
      "metadata": {
        "id": "0k0j6hBE3Xoe"
      }
    },
    {
      "cell_type": "code",
      "source": [],
      "metadata": {
        "id": "xXn08wYy3_Sv"
      },
      "execution_count": null,
      "outputs": []
    }
  ]
}